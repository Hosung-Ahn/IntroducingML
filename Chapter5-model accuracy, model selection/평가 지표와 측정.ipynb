{
 "cells": [
  {
   "cell_type": "code",
   "execution_count": 1,
   "metadata": {},
   "outputs": [],
   "source": [
    "import pandas as pd\n",
    "import matplotlib.pyplot as plt\n",
    "import numpy as np\n",
    "import sklearn\n",
    "import mglearn\n",
    "import warnings\n",
    "\n",
    "warnings.filterwarnings('ignore') \n",
    "plt.style.use('classic')"
   ]
  },
  {
   "cell_type": "markdown",
   "metadata": {},
   "source": [
    "## 이진 분류의 평가 지표\n",
    "---"
   ]
  },
  {
   "cell_type": "markdown",
   "metadata": {},
   "source": [
    "### 불균형 데이터\n",
    "#### 클래스의 비율이 한쪽으로 치우처진 데이터를 말한다.\n",
    "#### ex) 클릭된 광고(1%), 클릭되지 않은 광고(99%)"
   ]
  },
  {
   "cell_type": "code",
   "execution_count": 3,
   "metadata": {},
   "outputs": [],
   "source": [
    "from sklearn.datasets import load_digits\n",
    "from sklearn.model_selection import train_test_split\n",
    "digits = load_digits()\n",
    "y = digits.target == 9\n",
    "\n",
    "X_train, X_test, y_train, y_test = train_test_split(digits.data, y, random_state=0)"
   ]
  },
  {
   "cell_type": "markdown",
   "metadata": {},
   "source": [
    "#### 실제 모델과 비교하기 위해 가단한 규칙을 지원하는 모델\n",
    "#### DummyClassifier\n",
    "- strategy :\n",
    "    - stratified : 클래스 레이블 비율에 맞게 예측한다.\n",
    "    - most_frequent : 가장 많은 레이블을 예측한다.\n",
    "\n",
    "#### DummyRegressor \n",
    "- strategy :\n",
    "    - mean : 평균 값을 예측한다.\n",
    "    - median : 중간값을 예측한다."
   ]
  },
  {
   "cell_type": "code",
   "execution_count": 5,
   "metadata": {},
   "outputs": [
    {
     "name": "stdout",
     "output_type": "stream",
     "text": [
      "에측된 레이블의 레이블 [False]\n",
      "test score : 0.896\n"
     ]
    }
   ],
   "source": [
    "# 항상 다수의 클래스를 예측하는 모델을 사용함.\n",
    "from sklearn.dummy import DummyClassifier\n",
    "dummy_majority = DummyClassifier(strategy='most_frequent').fit(X_train, y_train)\n",
    "pred_most_frequent = dummy_majority.predict(X_test)\n",
    "print(\"에측된 레이블의 레이블\", np.unique(pred_most_frequent))\n",
    "print(f\"test score : {dummy_majority.score(X_test, y_test):0.3f}\")\n",
    "\n",
    "# 모든 클래스를 False 로 예측했지만 정확도는 약 90%나 된다."
   ]
  },
  {
   "cell_type": "code",
   "execution_count": 8,
   "metadata": {},
   "outputs": [
    {
     "name": "stdout",
     "output_type": "stream",
     "text": [
      "test score : 0.918\n"
     ]
    }
   ],
   "source": [
    "from sklearn.tree import DecisionTreeClassifier\n",
    "tree = DecisionTreeClassifier(max_depth=2).fit(X_train, y_train)\n",
    "pred_tree = tree.predict(X_test)\n",
    "print(f\"test score : {tree.score(X_test, y_test):0.3f}\")\n",
    "\n",
    "# DecisionTreeClassfier 의 성능이 조금 높다.\n",
    "# 이로써 DecisionTreeClassfier 의 성능이 좋은 편이 아니라는 것을 알 수 있다."
   ]
  },
  {
   "cell_type": "code",
   "execution_count": 16,
   "metadata": {},
   "outputs": [
    {
     "name": "stdout",
     "output_type": "stream",
     "text": [
      "dummy score : 0.840\n",
      "logreg score : 0.984\n"
     ]
    }
   ],
   "source": [
    "from sklearn.linear_model import LogisticRegression\n",
    "\n",
    "dummy = DummyClassifier(strategy='stratified').fit(X_train, y_train)\n",
    "pred_dummy = dummy.predict(X_test)\n",
    "print(f\"dummy score : {dummy.score(X_test, y_test):0.3f}\")\n",
    "\n",
    "logreg = LogisticRegression(C=0.1, max_iter=1000).fit(X_train, y_train)\n",
    "pred_logreg = logreg.predict(X_test)\n",
    "print(f\"logreg score : {logreg.score(X_test, y_test):0.3f}\")"
   ]
  }
 ],
 "metadata": {
  "kernelspec": {
   "display_name": "Python 3.9.12 ('tensorflow')",
   "language": "python",
   "name": "python3"
  },
  "language_info": {
   "codemirror_mode": {
    "name": "ipython",
    "version": 3
   },
   "file_extension": ".py",
   "mimetype": "text/x-python",
   "name": "python",
   "nbconvert_exporter": "python",
   "pygments_lexer": "ipython3",
   "version": "3.9.12"
  },
  "orig_nbformat": 4,
  "vscode": {
   "interpreter": {
    "hash": "6fdcef1ab88bd2769e5cd04c8613bf5b65f3e7486ea0bf4ec96200ddb16cbdbb"
   }
  }
 },
 "nbformat": 4,
 "nbformat_minor": 2
}
